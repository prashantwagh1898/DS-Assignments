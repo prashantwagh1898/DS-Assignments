{
 "cells": [
  {
   "cell_type": "code",
   "execution_count": 8,
   "id": "5b226f9a",
   "metadata": {},
   "outputs": [],
   "source": [
    "from scipy import stats\n",
    "from scipy.stats import norm"
   ]
  },
  {
   "cell_type": "code",
   "execution_count": 2,
   "id": "9c079624",
   "metadata": {},
   "outputs": [],
   "source": [
    "# Assume Null Hypothesis is: Ho = Avg life of Bulb >= 260 days\n",
    "# Alternate Hypothesis is: Ha = Avg life of Bulb < 260 days"
   ]
  },
  {
   "cell_type": "code",
   "execution_count": 3,
   "id": "18a8d715",
   "metadata": {},
   "outputs": [
    {
     "data": {
      "text/plain": [
       "-0.4714045207910317"
      ]
     },
     "execution_count": 3,
     "metadata": {},
     "output_type": "execute_result"
    }
   ],
   "source": [
    "# find t-scores at x=260; t=(s_mean-P_mean)/(s_SD/sqrt(n))\n",
    "t=(260-270)/(90/18**0.5)\n",
    "t"
   ]
  },
  {
   "cell_type": "code",
   "execution_count": 4,
   "id": "a9ad06b7",
   "metadata": {},
   "outputs": [],
   "source": [
    "# Find P(X>=260) for null hypothesis"
   ]
  },
  {
   "cell_type": "code",
   "execution_count": 9,
   "id": "11876fe0",
   "metadata": {},
   "outputs": [
    {
     "data": {
      "text/plain": [
       "0.32167411684460556"
      ]
     },
     "execution_count": 9,
     "metadata": {},
     "output_type": "execute_result"
    }
   ],
   "source": [
    "# p_value=1-stats.t.cdf(abs(t_scores),df=n-1)... Using cdf function\n",
    "p_value=1-stats.t.cdf(abs(-0.4714),df=17)\n",
    "p_value"
   ]
  },
  {
   "cell_type": "code",
   "execution_count": 10,
   "id": "55922d57",
   "metadata": {},
   "outputs": [
    {
     "data": {
      "text/plain": [
       "0.32167411684460556"
      ]
     },
     "execution_count": 10,
     "metadata": {},
     "output_type": "execute_result"
    }
   ],
   "source": [
    "#  OR p_value=stats.t.sf(abs(t_score),df=n-1)... Using sf function\n",
    "p_value=stats.t.sf(abs(-0.4714),df=17)\n",
    "p_value"
   ]
  },
  {
   "cell_type": "code",
   "execution_count": null,
   "id": "f9585542",
   "metadata": {},
   "outputs": [],
   "source": []
  }
 ],
 "metadata": {
  "kernelspec": {
   "display_name": "Python 3 (ipykernel)",
   "language": "python",
   "name": "python3"
  },
  "language_info": {
   "codemirror_mode": {
    "name": "ipython",
    "version": 3
   },
   "file_extension": ".py",
   "mimetype": "text/x-python",
   "name": "python",
   "nbconvert_exporter": "python",
   "pygments_lexer": "ipython3",
   "version": "3.9.12"
  }
 },
 "nbformat": 4,
 "nbformat_minor": 5
}
